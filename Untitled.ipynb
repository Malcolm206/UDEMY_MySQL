{
 "cells": [
  {
   "cell_type": "markdown",
   "metadata": {},
   "source": [
    "# UDEMY MySQL Bootcamp Course"
   ]
  },
  {
   "cell_type": "markdown",
   "metadata": {},
   "source": [
    "Completed Section 1 of Course May 20th, 2021"
   ]
  },
  {
   "cell_type": "markdown",
   "metadata": {},
   "source": [
    "Signed up for GOORM IDE and created new workspace for course May 23, 2021"
   ]
  },
  {
   "cell_type": "markdown",
   "metadata": {},
   "source": [
    "Completed Section 2 of Course May 23, 2021"
   ]
  },
  {
   "cell_type": "markdown",
   "metadata": {},
   "source": [
    "Completed Lecture Videos Section 3 # 17-26 May 23, 2021"
   ]
  },
  {
   "cell_type": "markdown",
   "metadata": {},
   "source": [
    "Lecture 27 - Basic Data Types Challenge\n",
    "    Draw a Tweets Table\n",
    "        - A username (max 15 characters)\n",
    "        - The Tweet Content (max 140 characters)\n",
    "        - Number of Favorites\n",
    "    My_Tweet_Table\n",
    "        - username varchar(15)\n",
    "        - Content varchar(140)\n",
    "        - Favorites int\n",
    "    Solution\n",
    "        - username varchar(15)\n",
    "        - Content varchar(140)\n",
    "        - Favorites int\n",
    "    Challege is Correct\n",
    "    Challenge Completed May 23, 2021"
   ]
  },
  {
   "cell_type": "markdown",
   "metadata": {},
   "source": [
    "Completed Lecture Videos Section 3 # 29-34 May 23, 2021"
   ]
  },
  {
   "cell_type": "markdown",
   "metadata": {},
   "source": [
    "Lecture 35 - Creating Your Own Tables Challenge\n",
    "    Pastries Table\n",
    "        - Should atleast include columns name (50 characters max) and quantity\n",
    "        - Inspect your table/columsn in cli\n",
    "        - Delete the table"
   ]
  },
  {
   "cell_type": "code",
   "execution_count": 1,
   "metadata": {},
   "outputs": [],
   "source": [
    "# Lecture 35 Challenge\n",
    "# CREATE TABLE pastries(\n",
    "#    -> name VARCHAR(50),\n",
    "#    -> number INT,\n",
    "#    -> price INT\n",
    "#    -> );\n",
    "# SHOW TABLES;\n",
    "# SHOW COLUMNS FROM pastries;\n",
    "# DROP TABLE pastries;\n",
    "# SHOW TABLES;"
   ]
  },
  {
   "cell_type": "code",
   "execution_count": 2,
   "metadata": {},
   "outputs": [],
   "source": [
    "# Lecture 35 Solution\n",
    "# CREATE TABLE pastries\n",
    "#   (\n",
    "#     name VARCHAR(50),\n",
    "#     quantity INT\n",
    "#   );\n",
    " \n",
    "# SHOW TABLES;\n",
    " \n",
    "# DESC pastries;\n",
    " \n",
    "# DROP TABLE pastries;\n",
    "# Slight syntax difference between work and solution. Still correct.\n",
    "# Completed Lecture 35 Code Challenge May 23, 2021"
   ]
  },
  {
   "cell_type": "markdown",
   "metadata": {},
   "source": [
    "Completed Section 3 May 23, 2021"
   ]
  },
  {
   "cell_type": "markdown",
   "metadata": {},
   "source": [
    "Completed Lecture Videos Section 4 # 37-43 May 25th, 2021"
   ]
  },
  {
   "cell_type": "code",
   "execution_count": 1,
   "metadata": {},
   "outputs": [],
   "source": [
    "# Lecture 44 Challenge\n",
    "# CREATE TABLE people (\n",
    "#    -> first_name VARCHAR(20),\n",
    "#    -> last_name VARCHAR(20),\n",
    "#    -> age INT\n",
    "#    -> );\n",
    "#\n",
    "# INSERT INTO people(first_name, last_name, age) VALUES('Tina', 'Belcher', 13);\n",
    "# SELECT * FROM people;\n",
    "#\n",
    "# INSERT INTO people(age, first_name, last_name) VALUES (42, 'Bob', 'Belcher');\n",
    "# SELECT * FROM people;\n",
    "#\n",
    "# INSERT INTO people(first_name, last_name, age) VALUES ('Linda', 'Belcher', 45), ('Phillip', 'Frond', 38), ('Calvin', 'F\n",
    "# ischoeder', 70);\n",
    "# SELECT * FROM people;"
   ]
  },
  {
   "cell_type": "code",
   "execution_count": 2,
   "metadata": {},
   "outputs": [],
   "source": [
    "# INSERT CHALLENGE SOLUTION\n",
    "# CREATE TABLE people\n",
    "#   (\n",
    "#     first_name VARCHAR(20),\n",
    "#     last_name VARCHAR(20),\n",
    "#     age INT\n",
    "#   );\n",
    "# INSERT INTO people(first_name, last_name, age)\n",
    "# VALUES ('Tina', 'Belcher', 13);\n",
    "# INSERT INTO people(age, last_name, first_name)\n",
    "# VALUES (42, 'Belcher', 'Bob');\n",
    "# INSERT INTO people(first_name, last_name, age)\n",
    "# VALUES('Linda', 'Belcher', 45)\n",
    "#   ,('Phillip', 'Frond', 38)\n",
    "#   ,('Calvin', 'Fischoeder', 70);\n",
    "# Slight Difference between work and solution. Still correct.\n",
    "# Completed Lecture 44 Code Challenge May 28, 2021"
   ]
  },
  {
   "cell_type": "markdown",
   "metadata": {},
   "source": [
    "Completes Lecture Videos Section 4 # 48 - 56 May 29, 2021"
   ]
  },
  {
   "cell_type": "code",
   "execution_count": 1,
   "metadata": {},
   "outputs": [],
   "source": [
    "# Lecture 57 CHALLENGE\n",
    "# CREATE TABLE Employees(\n",
    "#     -> id INT NOT NULL AUTO_INCREMENT,\n",
    "#     -> last_name VARCHAR(20) NOT NULL,\n",
    "#     -> first_name VARCHAR(20) NOT NULL,\n",
    "#     -> middle_name VARCHAR(20),\n",
    "#     -> age INT NOT NULL,\n",
    "#     -> current_status VARCHAR(50) NOT NULL DEFAULT 'employed',\n",
    "#     -> PRIMARY KEY (id)\n",
    "#     -> );\n",
    "#\n",
    "# INSERT INTO Employees(last_name, first_name, middle_name, age, current_status) VALUES ('Smith', 'John', 'William', 23,\n",
    "# 'employed')"
   ]
  },
  {
   "cell_type": "code",
   "execution_count": 2,
   "metadata": {},
   "outputs": [],
   "source": [
    "# Lecture 57 SOLUTION\n",
    "# CREATE TABLE employees (\n",
    "#     id INT AUTO_INCREMENT NOT NULL,\n",
    "#     first_name VARCHAR(255) NOT NULL,\n",
    "#     last_name VARCHAR(255) NOT NULL,\n",
    "#     middle_name VARCHAR(255),\n",
    "#     age INT NOT NULL,\n",
    "#     current_status VARCHAR(255) NOT NULL DEFAULT 'employed',\n",
    "#     PRIMARY KEY(id)\n",
    "# );\n",
    "#\n",
    "# Slight Difference in order of words between work and solution. Still Correct.\n",
    "# Completed May 30th, 2021"
   ]
  },
  {
   "cell_type": "markdown",
   "metadata": {},
   "source": [
    "Completed Section 4 May 30, 2021"
   ]
  },
  {
   "cell_type": "markdown",
   "metadata": {},
   "source": [
    "Completed Video Lectures Section 5 # 60-68"
   ]
  },
  {
   "cell_type": "code",
   "execution_count": 1,
   "metadata": {},
   "outputs": [],
   "source": [
    "# Lecture 69 CHALLENGE\n",
    "#\n",
    "# SELECT cat_id FROM cats;\n",
    "#\n",
    "# SELECT name, breed FROM cats;\n",
    "#\n",
    "# SELECT name, age FROM cats\n",
    "#    -> WHERE breed = 'Tabby';\n",
    "#\n",
    "# SELECT cat_id, age FROM cats\n",
    "#     -> WHERE cat_id = age;"
   ]
  },
  {
   "cell_type": "code",
   "execution_count": 2,
   "metadata": {},
   "outputs": [],
   "source": [
    "# Lecture 69 SOLUTION\n",
    "# SELECT cat_id FROM cats; \n",
    "\n",
    "# SELECT name, breed FROM cats; \n",
    "\n",
    "# SELECT name, age FROM cats WHERE breed='Tabby'; \n",
    "\n",
    "# SELECT cat_id, age FROM cats WHERE cat_id=age; \n",
    "\n",
    "# SELECT * FROM cats WHERE cat_id=age; \n",
    "\n",
    "# Work is correct. Completed May 31, 2021"
   ]
  },
  {
   "cell_type": "markdown",
   "metadata": {},
   "source": [
    "Completes Video Lectures Section 5 # 72 - 75"
   ]
  },
  {
   "cell_type": "code",
   "execution_count": 1,
   "metadata": {},
   "outputs": [],
   "source": [
    "# Lecture 76 CHALLENGE\n",
    "\n",
    "# UPDATE cats SET name = 'Jack'\n",
    "#    -> WHERE name = 'Jackson';\n",
    "\n",
    "# UPDATE cats SET breed = 'British Shorthair'\n",
    "# -> WHERE name = 'Ringo';\n",
    "\n",
    "# UPDATE cats SET age = 12\n",
    "#    -> WHERE breed = 'Maine Coon';"
   ]
  },
  {
   "cell_type": "code",
   "execution_count": 2,
   "metadata": {},
   "outputs": [],
   "source": [
    "# Lecture 76 SOLUTION\n",
    "\n",
    "# SELECT * FROM cats WHERE name='Jackson';\n",
    " \n",
    "### UPDATE cats SET name='Jack' WHERE name='Jackson';\n",
    " \n",
    "# SELECT * FROM cats WHERE name='Jackson';\n",
    " \n",
    "# SELECT * FROM cats WHERE name='Jack';\n",
    " \n",
    "# SELECT * FROM cats WHERE name='Ringo';\n",
    " \n",
    "### UPDATE cats SET breed='British Shorthair' WHERE name='Ringo';\n",
    " \n",
    "# SELECT * FROM cats WHERE name='Ringo';\n",
    " \n",
    "# SELECT * FROM cats;\n",
    "\n",
    "# SELECT * FROM cats WHERE breed='Maine Coon';\n",
    " \n",
    "### UPDATE cats SET age=12 WHERE breed='Maine Coon';\n",
    " \n",
    "# SELECT * FROM cats WHERE breed='Maine Coon';\n",
    "\n",
    "# Work is correct. Completed May 31, 2021"
   ]
  },
  {
   "cell_type": "code",
   "execution_count": null,
   "metadata": {},
   "outputs": [],
   "source": []
  }
 ],
 "metadata": {
  "kernelspec": {
   "display_name": "learn-env",
   "language": "python",
   "name": "learn-env"
  },
  "language_info": {
   "codemirror_mode": {
    "name": "ipython",
    "version": 3
   },
   "file_extension": ".py",
   "mimetype": "text/x-python",
   "name": "python",
   "nbconvert_exporter": "python",
   "pygments_lexer": "ipython3",
   "version": "3.6.9"
  }
 },
 "nbformat": 4,
 "nbformat_minor": 4
}
