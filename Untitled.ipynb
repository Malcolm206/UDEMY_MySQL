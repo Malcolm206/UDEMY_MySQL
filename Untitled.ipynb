{
 "cells": [
  {
   "cell_type": "markdown",
   "metadata": {},
   "source": [
    "# UDEMY MySQL Bootcamp Course"
   ]
  },
  {
   "cell_type": "markdown",
   "metadata": {},
   "source": [
    "Completed Section 1 of Course May 20th, 2021"
   ]
  },
  {
   "cell_type": "markdown",
   "metadata": {},
   "source": [
    "Signed up for GOORM IDE and created new workspace for course May 23, 2021"
   ]
  },
  {
   "cell_type": "markdown",
   "metadata": {},
   "source": [
    "Completed Section 2 of Course May 23, 2021"
   ]
  },
  {
   "cell_type": "markdown",
   "metadata": {},
   "source": [
    "Completed Lecture Videos Section 3 # 17-26 May 23, 2021"
   ]
  },
  {
   "cell_type": "markdown",
   "metadata": {},
   "source": [
    "Lecture 27 - Basic Data Types Challenge\n",
    "    Draw a Tweets Table\n",
    "        - A username (max 15 characters)\n",
    "        - The Tweet Content (max 140 characters)\n",
    "        - Number of Favorites\n",
    "    My_Tweet_Table\n",
    "        - username varchar(15)\n",
    "        - Content varchar(140)\n",
    "        - Favorites int\n",
    "    Solution\n",
    "        - username varchar(15)\n",
    "        - Content varchar(140)\n",
    "        - Favorites int\n",
    "    Challege is Correct\n",
    "    Challenge Completed May 23, 2021"
   ]
  },
  {
   "cell_type": "markdown",
   "metadata": {},
   "source": []
  }
 ],
 "metadata": {
  "kernelspec": {
   "display_name": "learn-env",
   "language": "python",
   "name": "learn-env"
  },
  "language_info": {
   "codemirror_mode": {
    "name": "ipython",
    "version": 3
   },
   "file_extension": ".py",
   "mimetype": "text/x-python",
   "name": "python",
   "nbconvert_exporter": "python",
   "pygments_lexer": "ipython3",
   "version": "3.6.9"
  }
 },
 "nbformat": 4,
 "nbformat_minor": 4
}
