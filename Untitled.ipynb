{
 "cells": [
  {
   "cell_type": "markdown",
   "metadata": {},
   "source": [
    "# UDEMY MySQL Bootcamp Course"
   ]
  },
  {
   "cell_type": "markdown",
   "metadata": {},
   "source": [
    "Completed Section 1 of Course May 20th, 2021"
   ]
  },
  {
   "cell_type": "markdown",
   "metadata": {},
   "source": [
    "Signed up for GOORM IDE and created new workspace for course May 23, 2021"
   ]
  },
  {
   "cell_type": "markdown",
   "metadata": {},
   "source": [
    "Completed Section 2 of Course May 23, 2021"
   ]
  },
  {
   "cell_type": "markdown",
   "metadata": {},
   "source": [
    "Completed Lecture Videos Section 3 # 17-26 May 23, 2021"
   ]
  },
  {
   "cell_type": "markdown",
   "metadata": {},
   "source": [
    "Lecture 27 - Basic Data Types Challenge\n",
    "    Draw a Tweets Table\n",
    "        - A username (max 15 characters)\n",
    "        - The Tweet Content (max 140 characters)\n",
    "        - Number of Favorites\n",
    "    My_Tweet_Table\n",
    "        - username varchar(15)\n",
    "        - Content varchar(140)\n",
    "        - Favorites int\n",
    "    Solution\n",
    "        - username varchar(15)\n",
    "        - Content varchar(140)\n",
    "        - Favorites int\n",
    "    Challege is Correct\n",
    "    Challenge Completed May 23, 2021"
   ]
  },
  {
   "cell_type": "markdown",
   "metadata": {},
   "source": [
    "Completed Lecture Videos Section 3 # 29-34 May 23, 2021"
   ]
  },
  {
   "cell_type": "markdown",
   "metadata": {},
   "source": [
    "Lecture 35 - Creating Your Own Tables Challenge\n",
    "    Pastries Table\n",
    "        - Should atleast include columns name (50 characters max) and quantity\n",
    "        - Inspect your table/columsn in cli\n",
    "        - Delete the table"
   ]
  },
  {
   "cell_type": "code",
   "execution_count": 1,
   "metadata": {},
   "outputs": [],
   "source": [
    "# Lecture 35 Challenge\n",
    "# CREATE TABLE pastries(\n",
    "#    -> name VARCHAR(50),\n",
    "#    -> number INT,\n",
    "#    -> price INT\n",
    "#    -> );\n",
    "# SHOW TABLES;\n",
    "# SHOW COLUMNS FROM pastries;\n",
    "# DROP TABLE pastries;\n",
    "# SHOW TABLES;"
   ]
  },
  {
   "cell_type": "code",
   "execution_count": 2,
   "metadata": {},
   "outputs": [],
   "source": [
    "# Lecture 35 Solution\n",
    "# CREATE TABLE pastries\n",
    "#   (\n",
    "#     name VARCHAR(50),\n",
    "#     quantity INT\n",
    "#   );\n",
    " \n",
    "# SHOW TABLES;\n",
    " \n",
    "# DESC pastries;\n",
    " \n",
    "# DROP TABLE pastries;\n",
    "# Slight syntax difference between work and solution. Still correct.\n",
    "# Completed Lecture 35 Code Challenge May 23, 2021"
   ]
  },
  {
   "cell_type": "markdown",
   "metadata": {},
   "source": [
    "Completed Section 3 May 23, 2021"
   ]
  },
  {
   "cell_type": "markdown",
   "metadata": {},
   "source": [
    "Completed Lecture Videos Section 4 # 37-43 May 25th, 2021"
   ]
  },
  {
   "cell_type": "code",
   "execution_count": 1,
   "metadata": {},
   "outputs": [],
   "source": [
    "# Lecture 44 Challenge\n",
    "# CREATE TABLE people (\n",
    "#    -> first_name VARCHAR(20),\n",
    "#    -> last_name VARCHAR(20),\n",
    "#    -> age INT\n",
    "#    -> );\n",
    "#\n",
    "# INSERT INTO people(first_name, last_name, age) VALUES('Tina', 'Belcher', 13);\n",
    "# SELECT * FROM people;\n",
    "#\n",
    "# INSERT INTO people(age, first_name, last_name) VALUES (42, 'Bob', 'Belcher');\n",
    "# SELECT * FROM people;\n",
    "#\n",
    "# INSERT INTO people(first_name, last_name, age) VALUES ('Linda', 'Belcher', 45), ('Phillip', 'Frond', 38), ('Calvin', 'F\n",
    "# ischoeder', 70);\n",
    "# SELECT * FROM people;"
   ]
  },
  {
   "cell_type": "code",
   "execution_count": 2,
   "metadata": {},
   "outputs": [],
   "source": [
    "# INSERT CHALLENGE SOLUTION\n",
    "# CREATE TABLE people\n",
    "#   (\n",
    "#     first_name VARCHAR(20),\n",
    "#     last_name VARCHAR(20),\n",
    "#     age INT\n",
    "#   );\n",
    "# INSERT INTO people(first_name, last_name, age)\n",
    "# VALUES ('Tina', 'Belcher', 13);\n",
    "# INSERT INTO people(age, last_name, first_name)\n",
    "# VALUES (42, 'Belcher', 'Bob');\n",
    "# INSERT INTO people(first_name, last_name, age)\n",
    "# VALUES('Linda', 'Belcher', 45)\n",
    "#   ,('Phillip', 'Frond', 38)\n",
    "#   ,('Calvin', 'Fischoeder', 70);\n",
    "# Slight Difference between work and solution. Still correct.\n",
    "# Completed Lecture 44 Code Challenge May 28, 2021"
   ]
  },
  {
   "cell_type": "markdown",
   "metadata": {},
   "source": [
    "Completes Lecture Videos Section 4 # 48 - 56 May 29, 2021"
   ]
  },
  {
   "cell_type": "code",
   "execution_count": 1,
   "metadata": {},
   "outputs": [],
   "source": [
    "# Lecture 57 CHALLENGE\n",
    "# CREATE TABLE Employees(\n",
    "#     -> id INT NOT NULL AUTO_INCREMENT,\n",
    "#     -> last_name VARCHAR(20) NOT NULL,\n",
    "#     -> first_name VARCHAR(20) NOT NULL,\n",
    "#     -> middle_name VARCHAR(20),\n",
    "#     -> age INT NOT NULL,\n",
    "#     -> current_status VARCHAR(50) NOT NULL DEFAULT 'employed',\n",
    "#     -> PRIMARY KEY (id)\n",
    "#     -> );\n",
    "#\n",
    "# INSERT INTO Employees(last_name, first_name, middle_name, age, current_status) VALUES ('Smith', 'John', 'William', 23,\n",
    "# 'employed')"
   ]
  },
  {
   "cell_type": "code",
   "execution_count": 2,
   "metadata": {},
   "outputs": [],
   "source": [
    "# Lecture 57 SOLUTION\n",
    "# CREATE TABLE employees (\n",
    "#     id INT AUTO_INCREMENT NOT NULL,\n",
    "#     first_name VARCHAR(255) NOT NULL,\n",
    "#     last_name VARCHAR(255) NOT NULL,\n",
    "#     middle_name VARCHAR(255),\n",
    "#     age INT NOT NULL,\n",
    "#     current_status VARCHAR(255) NOT NULL DEFAULT 'employed',\n",
    "#     PRIMARY KEY(id)\n",
    "# );\n",
    "#\n",
    "# Slight Difference in order of words between work and solution. Still Correct.\n",
    "# Completed May 30th, 2021"
   ]
  },
  {
   "cell_type": "markdown",
   "metadata": {},
   "source": [
    "Completed Section 4 May 30, 2021"
   ]
  },
  {
   "cell_type": "markdown",
   "metadata": {},
   "source": [
    "Completed Video Lectures Section 5 # 60-68"
   ]
  },
  {
   "cell_type": "code",
   "execution_count": 1,
   "metadata": {},
   "outputs": [],
   "source": [
    "# Lecture 69 CHALLENGE\n",
    "#\n",
    "# SELECT cat_id FROM cats;\n",
    "#\n",
    "# SELECT name, breed FROM cats;\n",
    "#\n",
    "# SELECT name, age FROM cats\n",
    "#    -> WHERE breed = 'Tabby';\n",
    "#\n",
    "# SELECT cat_id, age FROM cats\n",
    "#     -> WHERE cat_id = age;"
   ]
  },
  {
   "cell_type": "code",
   "execution_count": 2,
   "metadata": {},
   "outputs": [],
   "source": [
    "# Lecture 69 SOLUTION\n",
    "# SELECT cat_id FROM cats; \n",
    "\n",
    "# SELECT name, breed FROM cats; \n",
    "\n",
    "# SELECT name, age FROM cats WHERE breed='Tabby'; \n",
    "\n",
    "# SELECT cat_id, age FROM cats WHERE cat_id=age; \n",
    "\n",
    "# SELECT * FROM cats WHERE cat_id=age; \n",
    "\n",
    "# Work is correct. Completed May 31, 2021"
   ]
  },
  {
   "cell_type": "markdown",
   "metadata": {},
   "source": [
    "Completes Video Lectures Section 5 # 72 - 75"
   ]
  },
  {
   "cell_type": "code",
   "execution_count": 1,
   "metadata": {},
   "outputs": [],
   "source": [
    "# Lecture 76 CHALLENGE\n",
    "\n",
    "# UPDATE cats SET name = 'Jack'\n",
    "#    -> WHERE name = 'Jackson';\n",
    "\n",
    "# UPDATE cats SET breed = 'British Shorthair'\n",
    "# -> WHERE name = 'Ringo';\n",
    "\n",
    "# UPDATE cats SET age = 12\n",
    "#    -> WHERE breed = 'Maine Coon';"
   ]
  },
  {
   "cell_type": "code",
   "execution_count": 2,
   "metadata": {},
   "outputs": [],
   "source": [
    "# Lecture 76 SOLUTION\n",
    "\n",
    "# SELECT * FROM cats WHERE name='Jackson';\n",
    " \n",
    "### UPDATE cats SET name='Jack' WHERE name='Jackson';\n",
    " \n",
    "# SELECT * FROM cats WHERE name='Jackson';\n",
    " \n",
    "# SELECT * FROM cats WHERE name='Jack';\n",
    " \n",
    "# SELECT * FROM cats WHERE name='Ringo';\n",
    " \n",
    "### UPDATE cats SET breed='British Shorthair' WHERE name='Ringo';\n",
    " \n",
    "# SELECT * FROM cats WHERE name='Ringo';\n",
    " \n",
    "# SELECT * FROM cats;\n",
    "\n",
    "# SELECT * FROM cats WHERE breed='Maine Coon';\n",
    " \n",
    "### UPDATE cats SET age=12 WHERE breed='Maine Coon';\n",
    " \n",
    "# SELECT * FROM cats WHERE breed='Maine Coon';\n",
    "\n",
    "# Work is correct. Completed May 31, 2021"
   ]
  },
  {
   "cell_type": "markdown",
   "metadata": {},
   "source": [
    "Completes Video Lecture 79-80"
   ]
  },
  {
   "cell_type": "code",
   "execution_count": 1,
   "metadata": {},
   "outputs": [],
   "source": [
    "# Lecture 81 CODE CHALLENGE\n",
    "# \n",
    "# DELETE FROM cats WHERE age = 4;\n",
    "#\n",
    "# DELETE FROM cats where cat_id = age;\n",
    "#\n",
    "# DELETE FROM cats;"
   ]
  },
  {
   "cell_type": "code",
   "execution_count": 2,
   "metadata": {},
   "outputs": [],
   "source": [
    "# Lecture 81 CODE SOLUTION\n",
    "\n",
    "# SELECT * FROM cats WHERE age=4;\n",
    " \n",
    "# DELETE FROM cats WHERE age=4;\n",
    " \n",
    "# SELECT * FROM cats WHERE age=4;\n",
    " \n",
    "# SELECT * FROM cats;\n",
    " \n",
    "# SELECT *  FROM cats WHERE cat_id=age;\n",
    " \n",
    "# DELETE FROM cats WHERE cat_id=age;\n",
    " \n",
    "# DELETE FROM cats;\n",
    " \n",
    "# SELECT * FROM cats;\n",
    "\n",
    "# Work is correct. Completed June 5th, 2021"
   ]
  },
  {
   "cell_type": "markdown",
   "metadata": {},
   "source": [
    "COMPLETED SECTION 5 June 5th, 2021"
   ]
  },
  {
   "cell_type": "markdown",
   "metadata": {},
   "source": [
    "Completes Video Lecture 84"
   ]
  },
  {
   "cell_type": "code",
   "execution_count": 1,
   "metadata": {},
   "outputs": [],
   "source": [
    "# SECTION 6 CRUD Exercises\n",
    "# CREATE EXERCISE\n",
    "\n",
    "# CREATE DATABASE shirts_db;\n",
    "\n",
    "# USE shirts_db;\n",
    "\n",
    "# CREATE TABLE shirts (\n",
    "#     -> shirt_id INT NOT NULL AUTO_INCREMENT PRIMARY KEY,\n",
    "#     -> article VARCHAR(50),\n",
    "#     -> color VARCHAR(50),\n",
    "#     -> shirt_size VARCHAR(10),\n",
    "#     -> last_worn INT\n",
    "#     -> );\n",
    "\n",
    "# INSERT INTO shirts (article, color, shirt_size, last_worn) VALUES\n",
    "#     -> ('t-shirt', 'white', 'S', 10),\n",
    "#     -> ('t-shirt', 'green', 'S', 200),\n",
    "#     -> ('polo shirt', 'black', 'M', 10),\n",
    "#     -> ('tank top', 'blue', 'S', 50),\n",
    "#     -> ('t-shirt', 'pink', 'S', 0),\n",
    "#     -> ('polo shirt', 'red', 'M', 5),\n",
    "#     -> ('tank top', 'white', 'S', 200),\n",
    "#     -> ('tank top', 'blue', 'M', 15);\n",
    "\n",
    "# INSERT INTO shirts (article, color, shirt_size, last_worn) VALUES ('polo shirt', 'purple', 'M', 50);"
   ]
  },
  {
   "cell_type": "code",
   "execution_count": 2,
   "metadata": {},
   "outputs": [],
   "source": [
    "# SECTION 6 CRUD Exercises\n",
    "# CREATE EXERCISE SOLUTION\n",
    "\n",
    "# SELECT database();\n",
    " \n",
    "# CREATE DATABASE shirts_db;\n",
    " \n",
    "# use shirts_db;\n",
    " \n",
    "# SELECT database();\n",
    " \n",
    "# CREATE TABLE shirts\n",
    "#   (\n",
    "#     shirt_id INT NOT NULL AUTO_INCREMENT,\n",
    "#     article VARCHAR(100),\n",
    "#     color VARCHAR(100),\n",
    "#     shirt_size VARCHAR(100),\n",
    "#     last_worn INT,\n",
    "#     PRIMARY KEY(shirt_id)\n",
    "#   );\n",
    " \n",
    "# DESC shirts;\n",
    " \n",
    "# INSERT INTO shirts(article, color, shirt_size, last_worn) VALUES\n",
    "# ('t-shirt', 'white', 'S', 10),\n",
    "# ('t-shirt', 'green', 'S', 200),\n",
    "# ('polo shirt', 'black', 'M', 10),\n",
    "# ('tank top', 'blue', 'S', 50),\n",
    "# ('t-shirt', 'pink', 'S', 0),\n",
    "# ('polo shirt', 'red', 'M', 5),\n",
    "# ('tank top', 'white', 'S', 200),\n",
    "# ('tank top', 'blue', 'M', 15);\n",
    " \n",
    "# SELECT * FROM shirts;\n",
    " \n",
    "# INSERT INTO shirts(color, article, shirt_size, last_worn) \n",
    "# VALUES('purple', 'polo shirt', 'medium', 50);\n",
    " \n",
    "# SELECT * FROM shirts;\n",
    "\n",
    "# Work is correct. Completed June 5, 2021"
   ]
  },
  {
   "cell_type": "code",
   "execution_count": 1,
   "metadata": {},
   "outputs": [],
   "source": [
    "# SECTION 6 CRUD Exercises\n",
    "# READ EXERCISE\n",
    "\n",
    "# SELECT article, color FROM shirts;\n",
    "\n",
    "# SELECT article, color, shirt_size, last_worn FROM shirts WHERE shirt_size = 'M';"
   ]
  },
  {
   "cell_type": "code",
   "execution_count": 2,
   "metadata": {},
   "outputs": [],
   "source": [
    "# SECTION 6 CRUD Exercises\n",
    "# READ EXERCISE SOLUTION\n",
    "\n",
    "# SELECT article, color FROM shirts;\n",
    " \n",
    "# SELECT * FROM shirts WHERE shirt_size='M';\n",
    " \n",
    "# SELECT article, color, shirt_size, last_worn FROM shirts WHERE shirt_size='M';\n",
    "\n",
    "# Work is correct. Completed June 5, 2021"
   ]
  },
  {
   "cell_type": "code",
   "execution_count": 1,
   "metadata": {},
   "outputs": [],
   "source": [
    "# SECTION 6 CRUD Exercises\n",
    "# UPDATE EXERCISE\n",
    "\n",
    "# PROBLEM: UPDATE all polo shirts, change their size to L\n",
    "# UPDATE shirts SET shirt_size = 'L' WHERE article = 'polo shirt';\n",
    "# SELECT * FROM shirts;\n",
    "\n",
    "# PROBLEM: UPDATE shirt last worn 15 days ago, change last_worn to 0\n",
    "# UPDATE shirts SET last_worn = 0 WHERE last_worn = 15;\n",
    "# SELECT * FROM shirts;\n",
    "\n",
    "# PROBLEM: UPDATE all white shirts, change size to 'XS' and color to 'off white'\n",
    "# UPDATE shirts SET shirt_size = 'XS', color = 'off white' WHERE color = 'white';\n",
    "# SELECT * FROM shirts;"
   ]
  },
  {
   "cell_type": "code",
   "execution_count": 2,
   "metadata": {},
   "outputs": [],
   "source": [
    "# SECTION 6 CRUD EXERCISES\n",
    "# UPDATE EXERCISE SOLUTION\n",
    "\n",
    "# SELECT * FROM shirts WHERE article='polo shirt';\n",
    " \n",
    "# UPDATE shirts SET shirt_size='L' WHERE article='polo shirt';\n",
    " \n",
    "# SELECT * FROM shirts WHERE article='polo shirt';\n",
    " \n",
    "# SELECT * FROM shirts;\n",
    " \n",
    "# SELECT * FROM shirts WHERE last_worn=15;\n",
    " \n",
    "# UPDATE shirts SET last_worn=0 WHERE last_worn=15;\n",
    " \n",
    "# SELECT * FROM shirts WHERE last_worn=15;\n",
    " \n",
    "# SELECT * FROM shirts WHERE last_worn=0;\n",
    " \n",
    "# SELECT * FROM shirts WHERE color='white';\n",
    " \n",
    "# UPDATE shirts SET color='off white', shirt_size='XS' WHERE color='white';\n",
    " \n",
    "# SELECT * FROM shirts WHERE color='white';\n",
    " \n",
    "# SELECT * FROM shirts WHERE color='off white';\n",
    " \n",
    "# SELECT * FROM shirts;\n",
    "\n",
    "# Solution is slightly different when checking the values being changed. The work itself is still correct.\n",
    "# Completed June 12, 2021"
   ]
  },
  {
   "cell_type": "code",
   "execution_count": 1,
   "metadata": {},
   "outputs": [],
   "source": [
    "# SECTION 6 CRUD EXERCISES\n",
    "# DELETE EXERCISE\n",
    "\n",
    "# PROBLEM: Delete all old shirts, where last_worn = 200\n",
    "# DELETE FROM shirts WHERE last_worn = 200;\n",
    "# SELECT * FROM shirts;\n",
    "\n",
    "# PROBLEM: Delete all tank tops\n",
    "# DELETE FROM shirts WHERE article = 'tank top';\n",
    "# SELECT * FROM shirts;\n",
    "\n",
    "# PROBLEM: Delete all shirts\n",
    "# DELETE FROM shirts;\n",
    "# SELECT * FROM shirts;\n",
    "\n",
    "# PROBLEM: Drop the entire shirts table\n",
    "# DROP TABLE shirts;\n",
    "# SHOW TABLES;"
   ]
  },
  {
   "cell_type": "code",
   "execution_count": 2,
   "metadata": {},
   "outputs": [],
   "source": [
    "# SECTION 6 CRUD EXERCISES\n",
    "# DELETE EXERCISE SOLUTION\n",
    "\n",
    "# SELECT * FROM shirts;\n",
    " \n",
    "# SELECT * FROM shirts WHERE last_worn=200;\n",
    " \n",
    "# DELETE FROM shirts WHERE last_worn=200;\n",
    " \n",
    "# SELECT * FROM shirts WHERE article='tank top';\n",
    " \n",
    "# DELETE FROM shirts WHERE article='tank top';\n",
    " \n",
    "# SELECT * FROM shirts WHERE article='tank top';\n",
    " \n",
    "# SELECT * FROM shirts;\n",
    " \n",
    "# DELETE FROM shirts;\n",
    " \n",
    "# SELECT * FROM shirts;\n",
    " \n",
    "# DROP TABLE shirts;\n",
    " \n",
    "# show tables;\n",
    " \n",
    "# DESC shirts;\n",
    "\n",
    "# WORK IS CORRECT. COMPLETED June 12, 2021"
   ]
  },
  {
   "cell_type": "markdown",
   "metadata": {},
   "source": [
    "Completes Section 6 June 12, 2021"
   ]
  },
  {
   "cell_type": "markdown",
   "metadata": {},
   "source": [
    "Completes Video Lectures 94 - 99 June 12, 2021"
   ]
  },
  {
   "cell_type": "markdown",
   "metadata": {},
   "source": [
    "Completes Video Lectures 100 - 112 June 13, 2021"
   ]
  },
  {
   "cell_type": "code",
   "execution_count": 1,
   "metadata": {},
   "outputs": [],
   "source": [
    "# Code Challenge from Lecture 113\n",
    "\n",
    "# Reverse and uppercase the following sentence: Why does my cat look at me with such hatred?\n",
    "# SELECT REVERSE(UPPER('Why does my cat look at me with such hatred?'));\n",
    "\n",
    "# What does the following return, without testing it:\n",
    "# SELECT REPLACE(CONCAT('I', ' ', 'like', ' ', 'cats'), ' ', '-');\n",
    "# \"I-like-cats\"\n",
    "\n",
    "# Replaces spaces in titles with '->'\n",
    "# SELECT REPLACE(title, ' ', '->') AS 'title' FROM books;\n",
    "\n",
    "# Print out column with last_name forward and a column with it backwards\n",
    "# SELECT author_lname AS 'forwards', REVERSE(author_lname) AS 'backwards' FROM books;\n",
    "\n",
    "# Print Full Name in CAPS\n",
    "# SELECT UPPER(CONCAT(author_fname, ' ', author_lname)) AS 'full name in caps' FROM books;\n",
    "\n",
    "# Print a blurb with the title and when it was released\n",
    "# SELECT CONCAT(title, ' was released in ', released_year) AS 'blurb' FROM books;\n",
    "\n",
    "# Print book titles and the length of the titles\n",
    "# SELECT title, CHAR_LENGTH(title) AS 'character count' FROM books;\n",
    "\n",
    "# Print short title, author, and number in stock\n",
    "# SELECT CONCAT(SUBSTRING(title, 1, 10), '...') AS 'short title',\n",
    "#     -> CONCAT(author_lname, ', ', author_fname) AS 'author',\n",
    "#     -> CONCAT(stock_quantity, ' in stock') AS 'quantity'\n",
    "#     -> FROM books;"
   ]
  },
  {
   "cell_type": "code",
   "execution_count": 2,
   "metadata": {},
   "outputs": [],
   "source": [
    "# CODE CHALLENGE SOLUTION\n",
    "\n",
    "# SELECT UPPER(REVERSE('Why does my cat look at me with such hatred?')); \n",
    "# OR\n",
    "# SELECT REVERSE(UPPER('Why does my cat look at me with such hatred?'));\n",
    "\n",
    "# SELECT REPLACE(CONCAT('I', ' ', 'like', ' ', 'cats'), ' ', '-'); \n",
    "\n",
    "# SELECT REPLACE(title, ' ', '->') AS title FROM books; \n",
    "\n",
    "# SELECT \n",
    "#    author_lname AS forwards,\n",
    "#    REVERSE(author_lname) AS backwards \n",
    "# FROM books;\n",
    "\n",
    "\n",
    "# SELECT\n",
    "#    UPPER\n",
    "#    (\n",
    "#       CONCAT(author_fname, ' ', author_lname)\n",
    "#    ) AS 'full name in caps'\n",
    "# FROM books;\n",
    "\n",
    "# SELECT\n",
    "#    CONCAT(title, ' was released in ', released_year) AS blurb\n",
    "# FROM books;\n",
    "\n",
    "# SELECT\n",
    "#    title,\n",
    "#    CHAR_LENGTH(title) AS 'character count'\n",
    "# FROM books;\n",
    "\n",
    "# SELECT\n",
    "#    CONCAT(SUBSTRING(title, 1, 10), '...') AS 'short title',\n",
    "#    CONCAT(author_lname, ',', author_fname) AS author,\n",
    "#    CONCAT(stock_quantity, ' in stock') AS quantity\n",
    "# FROM books;\n",
    "\n",
    "# Work is correct. Completed Jan 13, 2021"
   ]
  },
  {
   "cell_type": "markdown",
   "metadata": {},
   "source": [
    "Completed Section 7"
   ]
  },
  {
   "cell_type": "markdown",
   "metadata": {},
   "source": [
    "Completed Section 8 Video Lectures # 116 - 128 June 16, 2021"
   ]
  },
  {
   "cell_type": "code",
   "execution_count": 1,
   "metadata": {},
   "outputs": [],
   "source": [
    "# SECTION 8 CODE CHALLENGE (LECTURE 130)\n",
    "\n",
    "# SELECT title from books WHERE title LIKE '%stories%';\n",
    "\n",
    "# SELECT title, pages from books ORDER BY pages DESC LIMIT 1;\n",
    "\n",
    "# SELECT CONCAT(title, ' - ', released_year) AS summary FROM books ORDER BY released_year DESC LIMIT 3;\n",
    "\n",
    "# SELECT title, author_lname FROM books WHERE author_lname LIKE '% %';\n",
    "\n",
    "# SELECT title, released_year, stock_quantity FROM books ORDER BY stock_quantity, title LIMIT 3;\n",
    "\n",
    "# SELECT title, author_lname FROM books ORDER BY author_lname, title;\n",
    "\n",
    "# SELECT CONCAT('MY FAVORITE AUTHOR IS ', UPPER(author_fname), ' ', UPPER(author_lname), '!') AS 'yell' FROM books ORDER BY author_lname;"
   ]
  },
  {
   "cell_type": "code",
   "execution_count": 2,
   "metadata": {},
   "outputs": [],
   "source": [
    "# SECTION 8 CODE CHALLENGE SOLUTION (LECTURE 131&132)\n",
    "\n",
    "# SELECT title FROM books WHERE title LIKE '%stories%';\n",
    " \n",
    "# SELECT title, pages FROM books ORDER BY pages DESC LIMIT 1;\n",
    " \n",
    "# SELECT \n",
    "#     CONCAT(title, ' - ', released_year) AS summary \n",
    "# FROM books ORDER BY released_year DESC LIMIT 3;\n",
    " \n",
    "# SELECT title, author_lname FROM books WHERE author_lname LIKE '% %';\n",
    " \n",
    "# SELECT title, released_year, stock_quantity \n",
    "# FROM books ORDER BY stock_quantity LIMIT 3;\n",
    " \n",
    "# SELECT title, author_lname \n",
    "# FROM books ORDER BY author_lname, title;\n",
    " \n",
    "# SELECT title, author_lname \n",
    "# FROM books ORDER BY 2,1;\n",
    " \n",
    "# SELECT\n",
    "#     CONCAT(\n",
    "#         'MY FAVORITE AUTHOR IS ',\n",
    "#         UPPER(author_fname),\n",
    "#         ' ',\n",
    "#         UPPER(author_lname),\n",
    "#         '!'\n",
    "#     ) AS yell\n",
    "# FROM books ORDER BY author_lname;\n",
    "\n",
    "# WORK IS CORRECT! COMPLETED JUNE 16, 2021"
   ]
  },
  {
   "cell_type": "markdown",
   "metadata": {},
   "source": [
    "Completed Section 8 June 16, 2021"
   ]
  },
  {
   "cell_type": "markdown",
   "metadata": {},
   "source": [
    "Completed Section 9 Lecture Videos # 132 - 147 June 16, 2021"
   ]
  },
  {
   "cell_type": "code",
   "execution_count": null,
   "metadata": {},
   "outputs": [],
   "source": []
  }
 ],
 "metadata": {
  "kernelspec": {
   "display_name": "learn-env",
   "language": "python",
   "name": "learn-env"
  },
  "language_info": {
   "codemirror_mode": {
    "name": "ipython",
    "version": 3
   },
   "file_extension": ".py",
   "mimetype": "text/x-python",
   "name": "python",
   "nbconvert_exporter": "python",
   "pygments_lexer": "ipython3",
   "version": "3.6.9"
  }
 },
 "nbformat": 4,
 "nbformat_minor": 4
}
