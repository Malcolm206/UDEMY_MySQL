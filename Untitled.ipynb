{
 "cells": [
  {
   "cell_type": "markdown",
   "metadata": {},
   "source": [
    "# UDEMY MySQL Bootcamp Course"
   ]
  },
  {
   "cell_type": "markdown",
   "metadata": {},
   "source": [
    "Completed Section 1 of Course May 20th, 2021"
   ]
  },
  {
   "cell_type": "markdown",
   "metadata": {},
   "source": [
    "Signed up for GOORM IDE and created new workspace for course May 23, 2021"
   ]
  },
  {
   "cell_type": "markdown",
   "metadata": {},
   "source": [
    "Completed Section 2 of Course May 23, 2021"
   ]
  },
  {
   "cell_type": "markdown",
   "metadata": {},
   "source": [
    "Completed Lecture Videos Section 3 # 17-26 May 23, 2021"
   ]
  },
  {
   "cell_type": "markdown",
   "metadata": {},
   "source": [
    "Lecture 27 - Basic Data Types Challenge\n",
    "    Draw a Tweets Table\n",
    "        - A username (max 15 characters)\n",
    "        - The Tweet Content (max 140 characters)\n",
    "        - Number of Favorites\n",
    "    My_Tweet_Table\n",
    "        - username varchar(15)\n",
    "        - Content varchar(140)\n",
    "        - Favorites int\n",
    "    Solution\n",
    "        - username varchar(15)\n",
    "        - Content varchar(140)\n",
    "        - Favorites int\n",
    "    Challege is Correct\n",
    "    Challenge Completed May 23, 2021"
   ]
  },
  {
   "cell_type": "markdown",
   "metadata": {},
   "source": [
    "Completed Lecture Videos Section 3 # 29-34 May 23, 2021"
   ]
  },
  {
   "cell_type": "markdown",
   "metadata": {},
   "source": [
    "Lecture 35 - Creating Your Own Tables Challenge\n",
    "    Pastries Table\n",
    "        - Should atleast include columns name (50 characters max) and quantity\n",
    "        - Inspect your table/columsn in cli\n",
    "        - Delete the table"
   ]
  },
  {
   "cell_type": "code",
   "execution_count": 1,
   "metadata": {},
   "outputs": [],
   "source": [
    "# Lecture 35 Challenge\n",
    "# CREATE TABLE pastries(\n",
    "#    -> name VARCHAR(50),\n",
    "#    -> number INT,\n",
    "#    -> price INT\n",
    "#    -> );\n",
    "# SHOW TABLES;\n",
    "# SHOW COLUMNS FROM pastries;\n",
    "# DROP TABLE pastries;\n",
    "# SHOW TABLES;"
   ]
  },
  {
   "cell_type": "code",
   "execution_count": 2,
   "metadata": {},
   "outputs": [],
   "source": [
    "# Lecture 35 Solution\n",
    "# CREATE TABLE pastries\n",
    "#   (\n",
    "#     name VARCHAR(50),\n",
    "#     quantity INT\n",
    "#   );\n",
    " \n",
    "# SHOW TABLES;\n",
    " \n",
    "# DESC pastries;\n",
    " \n",
    "# DROP TABLE pastries;\n",
    "# Slight syntax difference between work and solution. Still correct.\n",
    "# Completed Lecture 35 Code Challenge May 23, 2021"
   ]
  },
  {
   "cell_type": "markdown",
   "metadata": {},
   "source": [
    "Completed Section 3 May 23, 2021"
   ]
  },
  {
   "cell_type": "markdown",
   "metadata": {},
   "source": [
    "Completed Lecture Videos Section 4 # 37-43 May 25th, 2021"
   ]
  },
  {
   "cell_type": "code",
   "execution_count": 1,
   "metadata": {},
   "outputs": [],
   "source": [
    "# Lecture 44 Challenge\n",
    "# CREATE TABLE people (\n",
    "#    -> first_name VARCHAR(20),\n",
    "#    -> last_name VARCHAR(20),\n",
    "#    -> age INT\n",
    "#    -> );\n",
    "#\n",
    "# INSERT INTO people(first_name, last_name, age) VALUES('Tina', 'Belcher', 13);\n",
    "# SELECT * FROM people;\n",
    "#\n",
    "# INSERT INTO people(age, first_name, last_name) VALUES (42, 'Bob', 'Belcher');\n",
    "# SELECT * FROM people;\n",
    "#\n",
    "# INSERT INTO people(first_name, last_name, age) VALUES ('Linda', 'Belcher', 45), ('Phillip', 'Frond', 38), ('Calvin', 'F\n",
    "# ischoeder', 70);\n",
    "# SELECT * FROM people;"
   ]
  },
  {
   "cell_type": "code",
   "execution_count": 2,
   "metadata": {},
   "outputs": [],
   "source": [
    "# INSERT CHALLENGE SOLUTION\n",
    "# CREATE TABLE people\n",
    "#   (\n",
    "#     first_name VARCHAR(20),\n",
    "#     last_name VARCHAR(20),\n",
    "#     age INT\n",
    "#   );\n",
    "# INSERT INTO people(first_name, last_name, age)\n",
    "# VALUES ('Tina', 'Belcher', 13);\n",
    "# INSERT INTO people(age, last_name, first_name)\n",
    "# VALUES (42, 'Belcher', 'Bob');\n",
    "# INSERT INTO people(first_name, last_name, age)\n",
    "# VALUES('Linda', 'Belcher', 45)\n",
    "#   ,('Phillip', 'Frond', 38)\n",
    "#   ,('Calvin', 'Fischoeder', 70);\n",
    "# Slight Difference between work and solution. Still correct.\n",
    "# Completed Lecture 44 Code Challenge May 28, 2021"
   ]
  },
  {
   "cell_type": "markdown",
   "metadata": {},
   "source": [
    "Completes Lecture Videos Section 4 # 48 - 56 May 29, 2021"
   ]
  },
  {
   "cell_type": "code",
   "execution_count": 1,
   "metadata": {},
   "outputs": [],
   "source": [
    "# Lecture 57 CHALLENGE\n",
    "# CREATE TABLE Employees(\n",
    "#     -> id INT NOT NULL AUTO_INCREMENT,\n",
    "#     -> last_name VARCHAR(20) NOT NULL,\n",
    "#     -> first_name VARCHAR(20) NOT NULL,\n",
    "#     -> middle_name VARCHAR(20),\n",
    "#     -> age INT NOT NULL,\n",
    "#     -> current_status VARCHAR(50) NOT NULL DEFAULT 'employed',\n",
    "#     -> PRIMARY KEY (id)\n",
    "#     -> );\n",
    "#\n",
    "# INSERT INTO Employees(last_name, first_name, middle_name, age, current_status) VALUES ('Smith', 'John', 'William', 23,\n",
    "# 'employed')"
   ]
  },
  {
   "cell_type": "code",
   "execution_count": 2,
   "metadata": {},
   "outputs": [],
   "source": [
    "# Lecture 57 SOLUTION\n",
    "# CREATE TABLE employees (\n",
    "#     id INT AUTO_INCREMENT NOT NULL,\n",
    "#     first_name VARCHAR(255) NOT NULL,\n",
    "#     last_name VARCHAR(255) NOT NULL,\n",
    "#     middle_name VARCHAR(255),\n",
    "#     age INT NOT NULL,\n",
    "#     current_status VARCHAR(255) NOT NULL DEFAULT 'employed',\n",
    "#     PRIMARY KEY(id)\n",
    "# );\n",
    "#\n",
    "# Slight Difference in order of words between work and solution. Still Correct.\n",
    "# Completed May 30th, 2021"
   ]
  },
  {
   "cell_type": "markdown",
   "metadata": {},
   "source": [
    "Completed Section 4 May 30, 2021"
   ]
  },
  {
   "cell_type": "markdown",
   "metadata": {},
   "source": [
    "Completed Video Lectures Section 5 # 60-68"
   ]
  },
  {
   "cell_type": "code",
   "execution_count": 1,
   "metadata": {},
   "outputs": [],
   "source": [
    "# Lecture 69 CHALLENGE\n",
    "#\n",
    "# SELECT cat_id FROM cats;\n",
    "#\n",
    "# SELECT name, breed FROM cats;\n",
    "#\n",
    "# SELECT name, age FROM cats\n",
    "#    -> WHERE breed = 'Tabby';\n",
    "#\n",
    "# SELECT cat_id, age FROM cats\n",
    "#     -> WHERE cat_id = age;"
   ]
  },
  {
   "cell_type": "code",
   "execution_count": 2,
   "metadata": {},
   "outputs": [],
   "source": [
    "# Lecture 69 SOLUTION\n",
    "# SELECT cat_id FROM cats; \n",
    "\n",
    "# SELECT name, breed FROM cats; \n",
    "\n",
    "# SELECT name, age FROM cats WHERE breed='Tabby'; \n",
    "\n",
    "# SELECT cat_id, age FROM cats WHERE cat_id=age; \n",
    "\n",
    "# SELECT * FROM cats WHERE cat_id=age; \n",
    "\n",
    "# Work is correct. Completed May 31, 2021"
   ]
  },
  {
   "cell_type": "markdown",
   "metadata": {},
   "source": [
    "Completes Video Lectures Section 5 # 72 - 75"
   ]
  },
  {
   "cell_type": "code",
   "execution_count": 1,
   "metadata": {},
   "outputs": [],
   "source": [
    "# Lecture 76 CHALLENGE\n",
    "\n",
    "# UPDATE cats SET name = 'Jack'\n",
    "#    -> WHERE name = 'Jackson';\n",
    "\n",
    "# UPDATE cats SET breed = 'British Shorthair'\n",
    "# -> WHERE name = 'Ringo';\n",
    "\n",
    "# UPDATE cats SET age = 12\n",
    "#    -> WHERE breed = 'Maine Coon';"
   ]
  },
  {
   "cell_type": "code",
   "execution_count": 2,
   "metadata": {},
   "outputs": [],
   "source": [
    "# Lecture 76 SOLUTION\n",
    "\n",
    "# SELECT * FROM cats WHERE name='Jackson';\n",
    " \n",
    "### UPDATE cats SET name='Jack' WHERE name='Jackson';\n",
    " \n",
    "# SELECT * FROM cats WHERE name='Jackson';\n",
    " \n",
    "# SELECT * FROM cats WHERE name='Jack';\n",
    " \n",
    "# SELECT * FROM cats WHERE name='Ringo';\n",
    " \n",
    "### UPDATE cats SET breed='British Shorthair' WHERE name='Ringo';\n",
    " \n",
    "# SELECT * FROM cats WHERE name='Ringo';\n",
    " \n",
    "# SELECT * FROM cats;\n",
    "\n",
    "# SELECT * FROM cats WHERE breed='Maine Coon';\n",
    " \n",
    "### UPDATE cats SET age=12 WHERE breed='Maine Coon';\n",
    " \n",
    "# SELECT * FROM cats WHERE breed='Maine Coon';\n",
    "\n",
    "# Work is correct. Completed May 31, 2021"
   ]
  },
  {
   "cell_type": "markdown",
   "metadata": {},
   "source": [
    "Completes Video Lecture 79-80"
   ]
  },
  {
   "cell_type": "code",
   "execution_count": 1,
   "metadata": {},
   "outputs": [],
   "source": [
    "# Lecture 81 CODE CHALLENGE\n",
    "# \n",
    "# DELETE FROM cats WHERE age = 4;\n",
    "#\n",
    "# DELETE FROM cats where cat_id = age;\n",
    "#\n",
    "# DELETE FROM cats;"
   ]
  },
  {
   "cell_type": "code",
   "execution_count": 2,
   "metadata": {},
   "outputs": [],
   "source": [
    "# Lecture 81 CODE SOLUTION\n",
    "\n",
    "# SELECT * FROM cats WHERE age=4;\n",
    " \n",
    "# DELETE FROM cats WHERE age=4;\n",
    " \n",
    "# SELECT * FROM cats WHERE age=4;\n",
    " \n",
    "# SELECT * FROM cats;\n",
    " \n",
    "# SELECT *  FROM cats WHERE cat_id=age;\n",
    " \n",
    "# DELETE FROM cats WHERE cat_id=age;\n",
    " \n",
    "# DELETE FROM cats;\n",
    " \n",
    "# SELECT * FROM cats;\n",
    "\n",
    "# Work is correct. Completed June 5th, 2021"
   ]
  },
  {
   "cell_type": "markdown",
   "metadata": {},
   "source": [
    "COMPLETED SECTION 5 June 5th, 2021"
   ]
  },
  {
   "cell_type": "markdown",
   "metadata": {},
   "source": [
    "Completes Video Lecture 84"
   ]
  },
  {
   "cell_type": "code",
   "execution_count": 1,
   "metadata": {},
   "outputs": [],
   "source": [
    "# SECTION 6 CRUD Exercises\n",
    "# CREATE EXERCISE\n",
    "\n",
    "# CREATE DATABASE shirts_db;\n",
    "\n",
    "# USE shirts_db;\n",
    "\n",
    "# CREATE TABLE shirts (\n",
    "#     -> shirt_id INT NOT NULL AUTO_INCREMENT PRIMARY KEY,\n",
    "#     -> article VARCHAR(50),\n",
    "#     -> color VARCHAR(50),\n",
    "#     -> shirt_size VARCHAR(10),\n",
    "#     -> last_worn INT\n",
    "#     -> );\n",
    "\n",
    "# INSERT INTO shirts (article, color, shirt_size, last_worn) VALUES\n",
    "#     -> ('t-shirt', 'white', 'S', 10),\n",
    "#     -> ('t-shirt', 'green', 'S', 200),\n",
    "#     -> ('polo shirt', 'black', 'M', 10),\n",
    "#     -> ('tank top', 'blue', 'S', 50),\n",
    "#     -> ('t-shirt', 'pink', 'S', 0),\n",
    "#     -> ('polo shirt', 'red', 'M', 5),\n",
    "#     -> ('tank top', 'white', 'S', 200),\n",
    "#     -> ('tank top', 'blue', 'M', 15);\n",
    "\n",
    "# INSERT INTO shirts (article, color, shirt_size, last_worn) VALUES ('polo shirt', 'purple', 'M', 50);"
   ]
  },
  {
   "cell_type": "code",
   "execution_count": 2,
   "metadata": {},
   "outputs": [],
   "source": [
    "# SECTION 6 CRUD Exercises\n",
    "# CREATE EXERCISE SOLUTION\n",
    "\n",
    "# SELECT database();\n",
    " \n",
    "# CREATE DATABASE shirts_db;\n",
    " \n",
    "# use shirts_db;\n",
    " \n",
    "# SELECT database();\n",
    " \n",
    "# CREATE TABLE shirts\n",
    "#   (\n",
    "#     shirt_id INT NOT NULL AUTO_INCREMENT,\n",
    "#     article VARCHAR(100),\n",
    "#     color VARCHAR(100),\n",
    "#     shirt_size VARCHAR(100),\n",
    "#     last_worn INT,\n",
    "#     PRIMARY KEY(shirt_id)\n",
    "#   );\n",
    " \n",
    "# DESC shirts;\n",
    " \n",
    "# INSERT INTO shirts(article, color, shirt_size, last_worn) VALUES\n",
    "# ('t-shirt', 'white', 'S', 10),\n",
    "# ('t-shirt', 'green', 'S', 200),\n",
    "# ('polo shirt', 'black', 'M', 10),\n",
    "# ('tank top', 'blue', 'S', 50),\n",
    "# ('t-shirt', 'pink', 'S', 0),\n",
    "# ('polo shirt', 'red', 'M', 5),\n",
    "# ('tank top', 'white', 'S', 200),\n",
    "# ('tank top', 'blue', 'M', 15);\n",
    " \n",
    "# SELECT * FROM shirts;\n",
    " \n",
    "# INSERT INTO shirts(color, article, shirt_size, last_worn) \n",
    "# VALUES('purple', 'polo shirt', 'medium', 50);\n",
    " \n",
    "# SELECT * FROM shirts;\n",
    "\n",
    "# Work is correct. Completed June 5, 2021"
   ]
  },
  {
   "cell_type": "code",
   "execution_count": 1,
   "metadata": {},
   "outputs": [],
   "source": [
    "# SECTION 6 CRUD Exercises\n",
    "# READ EXERCISE\n",
    "\n",
    "# SELECT article, color FROM shirts;\n",
    "\n",
    "# SELECT article, color, shirt_size, last_worn FROM shirts WHERE shirt_size = 'M';"
   ]
  },
  {
   "cell_type": "code",
   "execution_count": 2,
   "metadata": {},
   "outputs": [],
   "source": [
    "# SECTION 6 CRUD Exercises\n",
    "# READ EXERCISE SOLUTION\n",
    "\n",
    "# SELECT article, color FROM shirts;\n",
    " \n",
    "# SELECT * FROM shirts WHERE shirt_size='M';\n",
    " \n",
    "# SELECT article, color, shirt_size, last_worn FROM shirts WHERE shirt_size='M';\n",
    "\n",
    "# Work is correct. Completed June 5, 2021"
   ]
  },
  {
   "cell_type": "code",
   "execution_count": 1,
   "metadata": {},
   "outputs": [],
   "source": [
    "# SECTION 6 CRUD Exercises\n",
    "# UPDATE EXERCISE\n",
    "\n",
    "# PROBLEM: UPDATE all polo shirts, change their size to L\n",
    "# UPDATE shirts SET shirt_size = 'L' WHERE article = 'polo shirt';\n",
    "# SELECT * FROM shirts;\n",
    "\n",
    "# PROBLEM: UPDATE shirt last worn 15 days ago, change last_worn to 0\n",
    "# UPDATE shirts SET last_worn = 0 WHERE last_worn = 15;\n",
    "# SELECT * FROM shirts;\n",
    "\n",
    "# PROBLEM: UPDATE all white shirts, change size to 'XS' and color to 'off white'\n",
    "# UPDATE shirts SET shirt_size = 'XS', color = 'off white' WHERE color = 'white';\n",
    "# SELECT * FROM shirts;"
   ]
  },
  {
   "cell_type": "code",
   "execution_count": 2,
   "metadata": {},
   "outputs": [],
   "source": [
    "# SECTION 6 CRUD EXERCISES\n",
    "# UPDATE EXERCISE SOLUTION\n",
    "\n",
    "# SELECT * FROM shirts WHERE article='polo shirt';\n",
    " \n",
    "# UPDATE shirts SET shirt_size='L' WHERE article='polo shirt';\n",
    " \n",
    "# SELECT * FROM shirts WHERE article='polo shirt';\n",
    " \n",
    "# SELECT * FROM shirts;\n",
    " \n",
    "# SELECT * FROM shirts WHERE last_worn=15;\n",
    " \n",
    "# UPDATE shirts SET last_worn=0 WHERE last_worn=15;\n",
    " \n",
    "# SELECT * FROM shirts WHERE last_worn=15;\n",
    " \n",
    "# SELECT * FROM shirts WHERE last_worn=0;\n",
    " \n",
    "# SELECT * FROM shirts WHERE color='white';\n",
    " \n",
    "# UPDATE shirts SET color='off white', shirt_size='XS' WHERE color='white';\n",
    " \n",
    "# SELECT * FROM shirts WHERE color='white';\n",
    " \n",
    "# SELECT * FROM shirts WHERE color='off white';\n",
    " \n",
    "# SELECT * FROM shirts;\n",
    "\n",
    "# Solution is slightly different when checking the values being changed. The work itself is still correct.\n",
    "# Completed June 12, 2021"
   ]
  },
  {
   "cell_type": "code",
   "execution_count": 1,
   "metadata": {},
   "outputs": [],
   "source": [
    "# SECTION 6 CRUD EXERCISES\n",
    "# DELETE EXERCISE\n",
    "\n",
    "# PROBLEM: Delete all old shirts, where last_worn = 200\n",
    "# DELETE FROM shirts WHERE last_worn = 200;\n",
    "# SELECT * FROM shirts;\n",
    "\n",
    "# PROBLEM: Delete all tank tops\n",
    "# DELETE FROM shirts WHERE article = 'tank top';\n",
    "# SELECT * FROM shirts;\n",
    "\n",
    "# PROBLEM: Delete all shirts\n",
    "# DELETE FROM shirts;\n",
    "# SELECT * FROM shirts;\n",
    "\n",
    "# PROBLEM: Drop the entire shirts table\n",
    "# DROP TABLE shirts;\n",
    "# SHOW TABLES;"
   ]
  },
  {
   "cell_type": "code",
   "execution_count": 2,
   "metadata": {},
   "outputs": [],
   "source": [
    "# SECTION 6 CRUD EXERCISES\n",
    "# DELETE EXERCISE SOLUTION\n",
    "\n",
    "# SELECT * FROM shirts;\n",
    " \n",
    "# SELECT * FROM shirts WHERE last_worn=200;\n",
    " \n",
    "# DELETE FROM shirts WHERE last_worn=200;\n",
    " \n",
    "# SELECT * FROM shirts WHERE article='tank top';\n",
    " \n",
    "# DELETE FROM shirts WHERE article='tank top';\n",
    " \n",
    "# SELECT * FROM shirts WHERE article='tank top';\n",
    " \n",
    "# SELECT * FROM shirts;\n",
    " \n",
    "# DELETE FROM shirts;\n",
    " \n",
    "# SELECT * FROM shirts;\n",
    " \n",
    "# DROP TABLE shirts;\n",
    " \n",
    "# show tables;\n",
    " \n",
    "# DESC shirts;\n",
    "\n",
    "# WORK IS CORRECT. COMPLETED June 12, 2021"
   ]
  },
  {
   "cell_type": "markdown",
   "metadata": {},
   "source": [
    "Completes Section 6 June 12, 2021"
   ]
  },
  {
   "cell_type": "markdown",
   "metadata": {},
   "source": [
    "Completes Video Lectures 94 - 99 June 12, 2021"
   ]
  },
  {
   "cell_type": "markdown",
   "metadata": {},
   "source": [
    "Completes Video Lectures 100 - 112 June 13, 2021"
   ]
  },
  {
   "cell_type": "code",
   "execution_count": 1,
   "metadata": {},
   "outputs": [],
   "source": [
    "# Code Challenge from Lecture 113\n",
    "\n",
    "# Reverse and uppercase the following sentence: Why does my cat look at me with such hatred?\n",
    "# SELECT REVERSE(UPPER('Why does my cat look at me with such hatred?'));\n",
    "\n",
    "# What does the following return, without testing it:\n",
    "# SELECT REPLACE(CONCAT('I', ' ', 'like', ' ', 'cats'), ' ', '-');\n",
    "# \"I-like-cats\"\n",
    "\n",
    "# Replaces spaces in titles with '->'\n",
    "# SELECT REPLACE(title, ' ', '->') AS 'title' FROM books;\n",
    "\n",
    "# Print out column with last_name forward and a column with it backwards\n",
    "# SELECT author_lname AS 'forwards', REVERSE(author_lname) AS 'backwards' FROM books;\n",
    "\n",
    "# Print Full Name in CAPS\n",
    "# SELECT UPPER(CONCAT(author_fname, ' ', author_lname)) AS 'full name in caps' FROM books;\n",
    "\n",
    "# Print a blurb with the title and when it was released\n",
    "# SELECT CONCAT(title, ' was released in ', released_year) AS 'blurb' FROM books;\n",
    "\n",
    "# Print book titles and the length of the titles\n",
    "# SELECT title, CHAR_LENGTH(title) AS 'character count' FROM books;\n",
    "\n",
    "# Print short title, author, and number in stock\n",
    "# SELECT CONCAT(SUBSTRING(title, 1, 10), '...') AS 'short title',\n",
    "#     -> CONCAT(author_lname, ', ', author_fname) AS 'author',\n",
    "#     -> CONCAT(stock_quantity, ' in stock') AS 'quantity'\n",
    "#     -> FROM books;"
   ]
  },
  {
   "cell_type": "code",
   "execution_count": 2,
   "metadata": {},
   "outputs": [],
   "source": [
    "# CODE CHALLENGE SOLUTION\n",
    "\n",
    "# SELECT UPPER(REVERSE('Why does my cat look at me with such hatred?')); \n",
    "# OR\n",
    "# SELECT REVERSE(UPPER('Why does my cat look at me with such hatred?'));\n",
    "\n",
    "# SELECT REPLACE(CONCAT('I', ' ', 'like', ' ', 'cats'), ' ', '-'); \n",
    "\n",
    "# SELECT REPLACE(title, ' ', '->') AS title FROM books; \n",
    "\n",
    "# SELECT \n",
    "#    author_lname AS forwards,\n",
    "#    REVERSE(author_lname) AS backwards \n",
    "# FROM books;\n",
    "\n",
    "\n",
    "# SELECT\n",
    "#    UPPER\n",
    "#    (\n",
    "#       CONCAT(author_fname, ' ', author_lname)\n",
    "#    ) AS 'full name in caps'\n",
    "# FROM books;\n",
    "\n",
    "# SELECT\n",
    "#    CONCAT(title, ' was released in ', released_year) AS blurb\n",
    "# FROM books;\n",
    "\n",
    "# SELECT\n",
    "#    title,\n",
    "#    CHAR_LENGTH(title) AS 'character count'\n",
    "# FROM books;\n",
    "\n",
    "# SELECT\n",
    "#    CONCAT(SUBSTRING(title, 1, 10), '...') AS 'short title',\n",
    "#    CONCAT(author_lname, ',', author_fname) AS author,\n",
    "#    CONCAT(stock_quantity, ' in stock') AS quantity\n",
    "# FROM books;\n",
    "\n",
    "# Work is correct. Completed Jan 13, 2021"
   ]
  },
  {
   "cell_type": "markdown",
   "metadata": {},
   "source": [
    "Completed Section 7"
   ]
  },
  {
   "cell_type": "markdown",
   "metadata": {},
   "source": [
    "Completed Section 8 Video Lectures # 116 - 128 June 16, 2021"
   ]
  },
  {
   "cell_type": "code",
   "execution_count": 1,
   "metadata": {},
   "outputs": [],
   "source": [
    "# SECTION 8 CODE CHALLENGE (LECTURE 130)\n",
    "\n",
    "# SELECT title from books WHERE title LIKE '%stories%';\n",
    "\n",
    "# SELECT title, pages from books ORDER BY pages DESC LIMIT 1;\n",
    "\n",
    "# SELECT CONCAT(title, ' - ', released_year) AS summary FROM books ORDER BY released_year DESC LIMIT 3;\n",
    "\n",
    "# SELECT title, author_lname FROM books WHERE author_lname LIKE '% %';\n",
    "\n",
    "# SELECT title, released_year, stock_quantity FROM books ORDER BY stock_quantity, title LIMIT 3;\n",
    "\n",
    "# SELECT title, author_lname FROM books ORDER BY author_lname, title;\n",
    "\n",
    "# SELECT CONCAT('MY FAVORITE AUTHOR IS ', UPPER(author_fname), ' ', UPPER(author_lname), '!') AS 'yell' FROM books ORDER BY author_lname;"
   ]
  },
  {
   "cell_type": "code",
   "execution_count": 2,
   "metadata": {},
   "outputs": [],
   "source": [
    "# SECTION 8 CODE CHALLENGE SOLUTION (LECTURE 131&132)\n",
    "\n",
    "# SELECT title FROM books WHERE title LIKE '%stories%';\n",
    " \n",
    "# SELECT title, pages FROM books ORDER BY pages DESC LIMIT 1;\n",
    " \n",
    "# SELECT \n",
    "#     CONCAT(title, ' - ', released_year) AS summary \n",
    "# FROM books ORDER BY released_year DESC LIMIT 3;\n",
    " \n",
    "# SELECT title, author_lname FROM books WHERE author_lname LIKE '% %';\n",
    " \n",
    "# SELECT title, released_year, stock_quantity \n",
    "# FROM books ORDER BY stock_quantity LIMIT 3;\n",
    " \n",
    "# SELECT title, author_lname \n",
    "# FROM books ORDER BY author_lname, title;\n",
    " \n",
    "# SELECT title, author_lname \n",
    "# FROM books ORDER BY 2,1;\n",
    " \n",
    "# SELECT\n",
    "#     CONCAT(\n",
    "#         'MY FAVORITE AUTHOR IS ',\n",
    "#         UPPER(author_fname),\n",
    "#         ' ',\n",
    "#         UPPER(author_lname),\n",
    "#         '!'\n",
    "#     ) AS yell\n",
    "# FROM books ORDER BY author_lname;\n",
    "\n",
    "# WORK IS CORRECT! COMPLETED JUNE 16, 2021"
   ]
  },
  {
   "cell_type": "markdown",
   "metadata": {},
   "source": [
    "Completed Section 8 June 16, 2021"
   ]
  },
  {
   "cell_type": "markdown",
   "metadata": {},
   "source": [
    "Completed Section 9 Lecture Videos # 132 - 147 June 16, 2021"
   ]
  },
  {
   "cell_type": "code",
   "execution_count": 1,
   "metadata": {},
   "outputs": [],
   "source": [
    "# SECTION 8 CODE CHALLENGE (LECTURE 148)\n",
    "\n",
    "# SELECT COUNT(*) FROM books;\n",
    "\n",
    "# SELECT released_year, COUNT(*) FROM books GROUP BY released_year;\n",
    "\n",
    "# SELECT SUM(stock_quantity) FROM books;\n",
    "\n",
    "# SELECT author_fname, author_lname, AVG(released_year) FROM books ORDER BY author_lname, author_fname;\n",
    "\n",
    "# SELECT CONCAT(author_fname, ' ', author_lname) AS 'Full Name', pages FROM books ORDER BY pages DESC LIMIT 1;\n",
    "\n",
    "# SELECT released_year AS year, COUNT(*) AS '# of books', AVG(pages) AS 'avg pages' FROM books GROUP BY released_year;"
   ]
  },
  {
   "cell_type": "code",
   "execution_count": 2,
   "metadata": {},
   "outputs": [],
   "source": [
    "# SECTION 8 CODE CHALLENGE SOLUTION (LECTURE 149-150)\n",
    "\n",
    "# SELECT COUNT(*) FROM books;\n",
    " \n",
    "# SELECT COUNT(*) FROM books GROUP BY released_year;\n",
    " \n",
    "# SELECT released_year, COUNT(*) FROM books GROUP BY released_year;\n",
    " \n",
    "# SELECT Sum(stock_quantity) FROM BOOKS;\n",
    " \n",
    "# SELECT AVG(released_year) FROM books GROUP BY author_lname, author_fname;\n",
    " \n",
    "# SELECT author_fname, author_lname, AVG(released_year) FROM books GROUP BY author_lname, author_fname;\n",
    " \n",
    "# SELECT CONCAT(author_fname, ' ', author_lname) FROM books\n",
    "# WHERE pages = (SELECT Max(pages) FROM books);\n",
    " \n",
    "# SELECT CONCAT(author_fname, ' ', author_lname) FROM books\n",
    "# ORDER BY pages DESC LIMIT 1;\n",
    " \n",
    "# SELECT pages, CONCAT(author_fname, ' ', author_lname) FROM books\n",
    "# ORDER BY pages DESC;\n",
    " \n",
    "# SELECT released_year AS year,\n",
    "#     COUNT(*) AS '# of books',\n",
    "#     AVG(pages) AS 'avg pages'\n",
    "# FROM books\n",
    "#     GROUP BY released_year;\n",
    "\n",
    "# WORK IS CORRECT. COMPLETED JUNE 16, 2021"
   ]
  },
  {
   "cell_type": "markdown",
   "metadata": {},
   "source": [
    "COMPLETED SECTION 9. JUNE 16, 2021"
   ]
  },
  {
   "cell_type": "markdown",
   "metadata": {},
   "source": [
    "COMPLETED SECTION 10 VIDEO LECTURES 151 - 170 June 20, 2021"
   ]
  },
  {
   "cell_type": "code",
   "execution_count": 1,
   "metadata": {},
   "outputs": [],
   "source": [
    "# SECTION 10 CODE CHALLENGE (LECTURE 171)\n",
    "\n",
    "# When is a good use case for CHAR?\n",
    "# If you have a column for States. Each State has a two letter abbreviation and CHAR(2) can be used without wasting memory\n",
    "\n",
    "# Fill in the blanks\n",
    "#.   VARCHAR\n",
    "#.   DECIMAL(8, 2)\n",
    "#.   INT\n",
    "\n",
    "# What is the difference between datatime and timestamp?\n",
    "#    The major difference between the two is that timestamp converts the time to UTC and when queried, it will\n",
    "#    convert from UTC to the current time zone, which is useful for companies that may work in multiple time zones\n",
    "#    Tmestamp also will only work during a certain set of years, which is shorted than datetime.\n",
    "\n",
    "# Print out the current time.\n",
    "#    SELECT CURTIME()\n",
    "\n",
    "# Print out the current date.\n",
    "#    SELECT CURDATE()\n",
    "\n",
    "# Print out the current day of the week (the number).\n",
    "#.   SELECT DAYOFWEEK(CURDATE())\n",
    "\n",
    "# Print out the current day of the week (the day name).\n",
    "#    SELECT DAYNAME(CURDATE())\n",
    "\n",
    "# Print out the current day and time using this format: mm/dd/yyyy\n",
    "#    SELECT DATE_FORMAT(CURDATE(), '%m/%d/%Y')\n",
    "\n",
    "# Print out the current day and time using this format: January 2nd at 3:15, April 1st at 10:18\n",
    "#    SELECT DATE_FORMAT(NOW(), '%M %D at %h:%i')\n",
    "\n",
    "# CREATE TABLE tweets (content VARCHAR(140), username VARCHAR(20), time TIMESTAMP DEFAULT NOW())"
   ]
  },
  {
   "cell_type": "code",
   "execution_count": 2,
   "metadata": {},
   "outputs": [],
   "source": [
    "# SECTION 10 CODE CHALLENGE SOLUTION (LECTURE 172 - 173)\n",
    "\n",
    "# What's a good use case for CHAR?\n",
    "# ------\n",
    "# Used for text that we know has a fixed length, e.g., State abbreviations, \n",
    "# abbreviated company names, sex M/F, etc.\n",
    " \n",
    "# CREATE TABLE inventory (\n",
    "#     item_name VARCHAR(100),\n",
    "#     price DECIMAL(8,2),\n",
    "#     quantity INT\n",
    "# );\n",
    " \n",
    "# What's the difference between DATETIME and TIMESTAMP?\n",
    "# ------\n",
    "# They both store datetime information, but there's a difference in the range, \n",
    "# TIMESTAMP has a smaller range. TIMESTAMP also takes up less space. \n",
    "# TIMESTAMP is used for things like meta-data about when something is created\n",
    "# or updated.\n",
    " \n",
    "# SELECT CURTIME();\n",
    " \n",
    "# SELECT CURDATE()';\n",
    " \n",
    "# SELECT DAYOFWEEK(CURDATE());\n",
    "# SELECT DAYOFWEEK(NOW());\n",
    "# SELECT DATE_FORMAT(NOW(), '%w') + 1;\n",
    " \n",
    "# SELECT DAYNAME(NOW());\n",
    "# SELECT DATE_FORMAT(NOW(), '%W');\n",
    " \n",
    "# SELECT DATE_FORMAT(CURDATE(), '%m/%d/%Y');\n",
    " \n",
    "# SELECT DATE_FORMAT(NOW(), '%M %D at %h:%i');\n",
    " \n",
    "# CREATE TABLE tweets(\n",
    "#     content VARCHAR(140),\n",
    "#     username VARCHAR(20),\n",
    "#     created_at TIMESTAMP DEFAULT NOW()\n",
    "# );\n",
    " \n",
    "# INSERT INTO tweets (content, username) VALUES('this is my first tweet', 'coltscat');\n",
    "# SELECT * FROM tweets;\n",
    " \n",
    "# INSERT INTO tweets (content, username) VALUES('this is my second tweet', 'coltscat');\n",
    "# SELECT * FROM tweets;\n",
    "\n",
    "# Work is correct. COMPLETED June 26th, 2021"
   ]
  },
  {
   "cell_type": "markdown",
   "metadata": {},
   "source": [
    "COMPLETED SECTION 10 JUNE 26th, 2021"
   ]
  },
  {
   "cell_type": "markdown",
   "metadata": {},
   "source": [
    "COMPLETED VIDEO LECTURES 174 - 184 JUNE 26th, 2021"
   ]
  },
  {
   "cell_type": "markdown",
   "metadata": {},
   "source": [
    "COMPLETED VIDEO LECTURES 185-192 JUNE 26th, 2021"
   ]
  },
  {
   "cell_type": "code",
   "execution_count": 1,
   "metadata": {},
   "outputs": [],
   "source": [
    "# SECTION 11 CODE CHALLENGE (LECTURE 193)\n",
    "\n",
    "# Evaluate the following...\n",
    "\n",
    "# SELECT 10 != 10; Will Return 0 (FALSE)\n",
    "# SELECT 15 > 14 && 99 - 5 <= 94; Will return 1 (TRUE)\n",
    "# SELECT 1 IN (5,3) || 9 BETWEEN 8 AND 10; Will return 1 (TRUE)\n",
    "\n",
    "# Select All Books Written Before 1980 (non inclusive)\n",
    "# SELECT * FROM books WHERE released_year < 1980;\n",
    "\n",
    "# Select All Books Written By Eggers Or Chabon\n",
    "# SELECT * FROM books WHERE author_lname IN ('EGGERS', 'CHABON');\n",
    "\n",
    "# Select All Books Written By Lahiri, Published after 2000\n",
    "# SELECT * FROM books WHERE author_lname = 'Lahiri' AND released_year > 2000;\n",
    "\n",
    "# Select All books with page counts between 100 and 200\n",
    "# SELECT * FROM books WHERE pages BETWEEN 100 AND 200;\n",
    "\n",
    "# Select all books where author_lname  starts with a 'C' or an 'S''\n",
    "# SELECT * FROM books WHERE author_lname LIKE 'C%' OR author_lname LIKE 'S%';\n",
    "\n",
    "# If title contains 'stories'   -> Short Stories, Just Kids and A Heartbreaking Work  -> Memoir, Everything Else -> Novel\n",
    "# SELECT title, author_lname, \n",
    "#    -> CASE \n",
    "#        -> WHEN title LIKE '%stories%' THEN 'Short Stories'\n",
    "#        -> WHEN title LIKE '%Just KIDS%' OR title LIKE '%A Heartbreaking Work%' THEN 'Memoir'\n",
    "#        -> ELSE 'Novel'\n",
    "#    -> END AS 'Type'\n",
    "# -> FROM books;\n",
    "\n",
    "# Bonus: Make This Happen\n",
    "# SELECT author_lname, CASE\n",
    "#     -> WHEN COUNT(*) = 1 THEN CONCAT(COUNT(*), ' book')\n",
    "#     -> ELSE CONCAT(COUNT(*), ' books')\n",
    "#     -> END AS COUNT\n",
    "#     -> FROM books\n",
    "#     -> GROUP BY author_lname, author_fname;"
   ]
  },
  {
   "cell_type": "code",
   "execution_count": 2,
   "metadata": {},
   "outputs": [],
   "source": [
    "# SECTION 11 CODE CHALLENGE SOLUTION (LECTURE 194-195)\n",
    "\n",
    "# SELECT 10 != 10;\n",
    "# -- false\n",
    " \n",
    "# SELECT 15 > 14 && 99 - 5 <= 94;\n",
    "# -- true\n",
    " \n",
    "# SELECT 1 IN (5,3) || 9 BETWEEN 8 AND 10;\n",
    "# -- true\n",
    " \n",
    "# SELECT title, released_year FROM books WHERE released_year < 1980;\n",
    " \n",
    "# SELECT title, author_lname FROM books WHERE author_lname='Eggers' OR author_lname='Chabon';\n",
    " \n",
    "# SELECT title, author_lname FROM books WHERE author_lname IN ('Eggers','Chabon'); (USED THIS VERSION)\n",
    " \n",
    "# SELECT title, author_lname, released_year FROM books WHERE author_lname = 'Lahiri' && released_year > 2000;\n",
    " \n",
    "# SELECT title, pages FROM books WHERE pages >= 100 && pages <=200;\n",
    " \n",
    "# SELECT title, pages FROM books WHERE pages BETWEEN 100 AND 200; (USED THIS VERSION)\n",
    " \n",
    "# SELECT \n",
    "#     title, \n",
    "#     author_lname \n",
    "# FROM books \n",
    "# WHERE \n",
    "#     author_lname LIKE 'C%' OR \n",
    "#     author_lname LIKE 'S%'; (USED THIS VERSION)\n",
    " \n",
    "# SELECT \n",
    "#     title, \n",
    "#     author_lname \n",
    "# FROM books \n",
    "# WHERE \n",
    "#     SUBSTR(author_lname,1,1) = 'C' OR \n",
    "#     SUBSTR(author_lname,1,1) = 'S';\n",
    " \n",
    "# SELECT title, author_lname FROM books \n",
    "# WHERE SUBSTR(author_lname,1,1) IN ('C', 'S');\n",
    " \n",
    "# SELECT \n",
    "#     title, \n",
    "#     author_lname,\n",
    "#     CASE\n",
    "#         WHEN title LIKE '%stories%' THEN 'Short Stories'\n",
    "#         WHEN title = 'Just Kids' OR title = 'A Heartbreaking Work of Staggering Genius' THEN 'Memoir'\n",
    "#         ELSE 'Novel'\n",
    "#     END AS TYPE\n",
    "# FROM books; (USED LIKE STATEMENT INSTEAD OF = SO THAT SECOND NOVEL DID NOT HAVE TO BE WRITTEN OUT COMPLETELY)\n",
    " \n",
    "# SELECT author_fname, author_lname,\n",
    "#     CASE \n",
    "#         WHEN COUNT(*) = 1 THEN '1 book'\n",
    "#         ELSE CONCAT(COUNT(*), ' books')\n",
    "#     END AS COUNT\n",
    "# FROM books \n",
    "# GROUP BY author_lname, author_fname; (THE FIRST CASE IS HARD CODED, I USED CONCAT FOR BOTH)\n",
    "\n",
    "# SMALL DIFFERENCES IN SYNTAX, BUT ALL CODING CHALLENGES HAVE THE CORRECT RESULT\n",
    "# COMPLETED JUNE 27TH, 2021"
   ]
  },
  {
   "cell_type": "markdown",
   "metadata": {},
   "source": [
    "COMPLETED SECTION 11 JUNE 27TH, 2021"
   ]
  },
  {
   "cell_type": "code",
   "execution_count": null,
   "metadata": {},
   "outputs": [],
   "source": []
  }
 ],
 "metadata": {
  "kernelspec": {
   "display_name": "learn-env",
   "language": "python",
   "name": "learn-env"
  },
  "language_info": {
   "codemirror_mode": {
    "name": "ipython",
    "version": 3
   },
   "file_extension": ".py",
   "mimetype": "text/x-python",
   "name": "python",
   "nbconvert_exporter": "python",
   "pygments_lexer": "ipython3",
   "version": "3.6.9"
  }
 },
 "nbformat": 4,
 "nbformat_minor": 4
}
